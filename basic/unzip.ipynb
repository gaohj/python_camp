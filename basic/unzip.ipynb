{
 "cells": [
  {
   "cell_type": "markdown",
   "metadata": {},
   "source": [
    "同时定义多个变量"
   ]
  },
  {
   "cell_type": "code",
   "execution_count": 15,
   "metadata": {},
   "outputs": [
    {
     "name": "stdout",
     "output_type": "stream",
     "text": [
      "1 2\n"
     ]
    }
   ],
   "source": [
    "a, b = 1, 2\n",
    "print(a, b)"
   ]
  },
  {
   "cell_type": "markdown",
   "metadata": {},
   "source": [
    "交换两个变量的值"
   ]
  },
  {
   "cell_type": "code",
   "execution_count": 17,
   "metadata": {},
   "outputs": [
    {
     "name": "stdout",
     "output_type": "stream",
     "text": [
      "2 1\n"
     ]
    }
   ],
   "source": [
    "a, b = b, a\n",
    "print(a, b)"
   ]
  },
  {
   "cell_type": "code",
   "execution_count": 18,
   "metadata": {},
   "outputs": [
    {
     "name": "stdout",
     "output_type": "stream",
     "text": [
      "2 3 1\n"
     ]
    }
   ],
   "source": [
    "a,b,c = 1,2,3\n",
    "a,b,c = b,c,a\n",
    "print(a,b,c)"
   ]
  },
  {
   "cell_type": "markdown",
   "metadata": {},
   "source": [
    "嵌套赋值"
   ]
  },
  {
   "cell_type": "code",
   "execution_count": 43,
   "metadata": {},
   "outputs": [
    {
     "name": "stdout",
     "output_type": "stream",
     "text": [
      "Agu born at Beijing on (2017, 9, 21)\n",
      "阿古2017年9月21日出生在北京\n"
     ]
    }
   ],
   "source": [
    "name, city, birth = 'Agu', 'Beijing', (2017, 9, 21)\n",
    "print('%s born at %s on %s' % (name, city, birth))\n",
    "name, city, (year, month, day) = '阿古', '北京', (2017, 9, 21)\n",
    "print('%s%s年%s月%s日出生在%s' % (name, year, month, day, city))"
   ]
  },
  {
   "cell_type": "markdown",
   "metadata": {},
   "source": [
    "同样规则也适用于tuple或者list"
   ]
  },
  {
   "cell_type": "code",
   "execution_count": 45,
   "metadata": {},
   "outputs": [
    {
     "name": "stdout",
     "output_type": "stream",
     "text": [
      "1 2\n",
      "1 2\n"
     ]
    }
   ],
   "source": [
    "lst = [1, 2]\n",
    "a, b = lst\n",
    "print(a, b)\n",
    "a, b = tuple(lst)\n",
    "print(a, b)"
   ]
  },
  {
   "cell_type": "markdown",
   "metadata": {},
   "source": [
    "适用于任何可迭代的对象，比如迭代器、字符串、文件对象"
   ]
  },
  {
   "cell_type": "code",
   "execution_count": 47,
   "metadata": {},
   "outputs": [
    {
     "name": "stdout",
     "output_type": "stream",
     "text": [
      "A g u\n"
     ]
    }
   ],
   "source": [
    "s = 'Agu'\n",
    "a, b, c = s\n",
    "print(a, b, c)"
   ]
  },
  {
   "cell_type": "code",
   "execution_count": 48,
   "metadata": {
    "scrolled": true
   },
   "outputs": [
    {
     "name": "stdout",
     "output_type": "stream",
     "text": [
      "0 1 2\n"
     ]
    }
   ],
   "source": [
    "a, b, c = range(3)\n",
    "print(a, b, c)"
   ]
  },
  {
   "cell_type": "markdown",
   "metadata": {},
   "source": [
    "如果可迭代对象的个数超过变量的个数，则会抛出ValueError"
   ]
  },
  {
   "cell_type": "code",
   "execution_count": 50,
   "metadata": {},
   "outputs": [
    {
     "ename": "ValueError",
     "evalue": "too many values to unpack (expected 3)",
     "output_type": "error",
     "traceback": [
      "\u001b[0;31m---------------------------------------------------------------------------\u001b[0m",
      "\u001b[0;31mValueError\u001b[0m                                Traceback (most recent call last)",
      "\u001b[0;32m<ipython-input-50-d36585cede7c>\u001b[0m in \u001b[0;36m<module>\u001b[0;34m()\u001b[0m\n\u001b[0;32m----> 1\u001b[0;31m \u001b[0mname\u001b[0m\u001b[0;34m,\u001b[0m \u001b[0mcity\u001b[0m\u001b[0;34m,\u001b[0m \u001b[0mbirth\u001b[0m \u001b[0;34m=\u001b[0m \u001b[0;34m'Agu'\u001b[0m\u001b[0;34m,\u001b[0m \u001b[0;34m'Beijing'\u001b[0m\u001b[0;34m,\u001b[0m \u001b[0;36m2017\u001b[0m\u001b[0;34m,\u001b[0m \u001b[0;36m9\u001b[0m\u001b[0;34m,\u001b[0m \u001b[0;36m21\u001b[0m\u001b[0;34m\u001b[0m\u001b[0m\n\u001b[0m",
      "\u001b[0;31mValueError\u001b[0m: too many values to unpack (expected 3)"
     ]
    }
   ],
   "source": [
    "name, city, birth = 'Agu', 'Beijing', 2017, 9, 21"
   ]
  },
  {
   "cell_type": "markdown",
   "metadata": {},
   "source": [
    "这个时候可以用*号来解决这种问题"
   ]
  },
  {
   "cell_type": "code",
   "execution_count": 52,
   "metadata": {},
   "outputs": [
    {
     "name": "stdout",
     "output_type": "stream",
     "text": [
      "Agu Beijing [2017, 9, 21]\n"
     ]
    }
   ],
   "source": [
    "name, city, *birth = 'Agu', 'Beijing', 2017, 9, 21\n",
    "print(name, city, birth)"
   ]
  },
  {
   "cell_type": "markdown",
   "metadata": {},
   "source": [
    "注意第3个带*号的参数，它永远都是List,即使没有值的情况下，省去了类型检查。"
   ]
  },
  {
   "cell_type": "code",
   "execution_count": 53,
   "metadata": {},
   "outputs": [
    {
     "name": "stdout",
     "output_type": "stream",
     "text": [
      "Agu Beijing []\n"
     ]
    }
   ],
   "source": [
    "name, city, *birth = 'Agu', 'Beijing'\n",
    "print(name, city, birth)"
   ]
  },
  {
   "cell_type": "code",
   "execution_count": 95,
   "metadata": {},
   "outputs": [
    {
     "name": "stdout",
     "output_type": "stream",
     "text": [
      "姓：李  名：白\n",
      "姓：李  名：清照\n"
     ]
    }
   ],
   "source": [
    "people = ['李白', '李清照']\n",
    "for p in people:\n",
    "    family_name, *name = p\n",
    "    print('姓：%s  名：%s' % (family_name, ''.join(name)))"
   ]
  },
  {
   "cell_type": "code",
   "execution_count": 62,
   "metadata": {},
   "outputs": [
    {
     "name": "stdout",
     "output_type": "stream",
     "text": [
      "[0, 1, 2, 3, 4, 5, 6, 7, 8]\n",
      "9\n"
     ]
    }
   ],
   "source": [
    "*head, tail = range(10)\n",
    "print(head)\n",
    "print(tail)"
   ]
  },
  {
   "cell_type": "markdown",
   "metadata": {},
   "source": [
    "这种写法在在迭代一些长度不固定的序列时，非常的方便，比如：现在有一场跳水比赛的决赛，共有10名裁判，10名选手，评分规则是这10名裁判依次给选手打分，如果裁判弃权则没有分，最后，去掉一个最高分，一个最低分，剩下的成绩的平均分就是选手的最终成绩。"
   ]
  },
  {
   "cell_type": "code",
   "execution_count": 87,
   "metadata": {},
   "outputs": [
    {
     "name": "stdout",
     "output_type": "stream",
     "text": [
      "宗洁 6.8\n",
      "查林 9.0\n",
      "苏娜 7.6\n",
      "古强 7.8\n",
      "亓海燕 8.2\n",
      "叶金凤 7.0\n",
      "鄂瑜 8.2\n",
      "邬桂香 8.0\n",
      "权凤兰 9.0\n",
      "厍春梅 8.6\n"
     ]
    }
   ],
   "source": [
    "import random\n",
    "import faker\n",
    "f = faker.Faker('zh_CN')\n",
    "# 生成10名运动员\n",
    "players = [f.name() for i in range(10)]\n",
    "# print(players)\n",
    "def collect_scores(player, judge_num=10):\n",
    "    \"\"\"收集裁判的评分\"\"\"\n",
    "    scores = []\n",
    "    for i in range(judge_num):\n",
    "        # 裁判有1/4的机率会弃权\n",
    "        if i % 4 == 0:\n",
    "            continue\n",
    "        scores.append(random.randint(6,10))\n",
    "    return player, scores\n",
    "\n",
    "all_scores = [collect_scores(player) for player in players]\n",
    "for player, scores in all_scores:\n",
    "    scores.sort()\n",
    "    min_score, *fine_scores, max_score = scores\n",
    "    print(player, sum(fine_scores)/len(fine_scores))"
   ]
  },
  {
   "cell_type": "markdown",
   "metadata": {},
   "source": [
    "这种*号解压的写法也可以用在分割字符串的时候"
   ]
  },
  {
   "cell_type": "code",
   "execution_count": 89,
   "metadata": {},
   "outputs": [
    {
     "name": "stdout",
     "output_type": "stream",
     "text": [
      "1 ['2', '3', '4'] 5\n"
     ]
    }
   ],
   "source": [
    "a,*b, c = '1,2,3,4,5'.split(',')\n",
    "print(a, b, c)"
   ]
  },
  {
   "cell_type": "code",
   "execution_count": null,
   "metadata": {},
   "outputs": [],
   "source": []
  }
 ],
 "metadata": {
  "kernelspec": {
   "display_name": "Python 3",
   "language": "python",
   "name": "python3"
  },
  "language_info": {
   "codemirror_mode": {
    "name": "ipython",
    "version": 3
   },
   "file_extension": ".py",
   "mimetype": "text/x-python",
   "name": "python",
   "nbconvert_exporter": "python",
   "pygments_lexer": "ipython3",
   "version": "3.6.0"
  }
 },
 "nbformat": 4,
 "nbformat_minor": 2
}
