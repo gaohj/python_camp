{
 "cells": [
  {
   "cell_type": "code",
   "execution_count": 1,
   "metadata": {},
   "outputs": [
    {
     "name": "stdout",
     "output_type": "stream",
     "text": [
      "{4, 6, 8, 9, 10, 12, 14, 15, 16, 18}\n",
      "{2, 3, 5, 7, 11, 13, 17, 19}\n",
      "[1]\n",
      "[2]\n",
      "[1, 3]\n"
     ]
    }
   ],
   "source": [
    "nums = set(range(2,20))\n",
    "comps = {j for i in nums for j in range(i*i, 20, i)}\n",
    "print(comps)\n",
    "primes = nums - comps\n",
    "print(primes)\n",
    "\n",
    "\n",
    "def f(val, lst=[]):\n",
    "    lst.append(val)\n",
    "    return lst\n",
    "\n",
    "print(f(1))\n",
    "print(f(2, []))\n",
    "print(f(3))"
   ]
  },
  {
   "cell_type": "code",
   "execution_count": 4,
   "metadata": {},
   "outputs": [
    {
     "name": "stdout",
     "output_type": "stream",
     "text": [
      "[1]\n",
      "[2]\n",
      "[1, 3]\n"
     ]
    }
   ],
   "source": [
    "def f(val, lst=[]):\n",
    "    lst.append(val)\n",
    "    return lst\n",
    "\n",
    "print(f(1))\n",
    "print(f(2, []))\n",
    "print(f(3))"
   ]
  }
 ],
 "metadata": {
  "kernelspec": {
   "display_name": "Python 3",
   "language": "python",
   "name": "python3"
  },
  "language_info": {
   "codemirror_mode": {
    "name": "ipython",
    "version": 3
   },
   "file_extension": ".py",
   "mimetype": "text/x-python",
   "name": "python",
   "nbconvert_exporter": "python",
   "pygments_lexer": "ipython3",
   "version": "3.6.0"
  }
 },
 "nbformat": 4,
 "nbformat_minor": 2
}
