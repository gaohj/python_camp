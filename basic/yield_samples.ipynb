{
 "cells": [
  {
   "cell_type": "code",
   "execution_count": 10,
   "metadata": {},
   "outputs": [],
   "source": [
    "def f():\n",
    "    i = 0\n",
    "    while True:\n",
    "        i += 1\n",
    "        print(i)\n",
    "        yield\n",
    "\n",
    "c = f()\n",
    "next(c)\n",
    "next(c)\n",
    "print(c.send(5))"
   ]
  },
  {
   "cell_type": "code",
   "execution_count": 12,
   "metadata": {},
   "outputs": [
    {
     "name": "stdout",
     "output_type": "stream",
     "text": [
      "test...\n",
      "<class 'generator'>\n",
      "['__class__', '__del__', '__delattr__', '__dir__', '__doc__', '__eq__', '__format__', '__ge__', '__getattribute__', '__gt__', '__hash__', '__init__', '__init_subclass__', '__iter__', '__le__', '__lt__', '__name__', '__ne__', '__new__', '__next__', '__qualname__', '__reduce__', '__reduce_ex__', '__repr__', '__setattr__', '__sizeof__', '__str__', '__subclasshook__', 'close', 'gi_code', 'gi_frame', 'gi_running', 'gi_yieldfrom', 'send', 'throw']\n",
      "function start\n",
      "next: 0\n",
      "generate a finished\n"
     ]
    },
    {
     "data": {
      "text/plain": [
       "1"
      ]
     },
     "execution_count": 12,
     "metadata": {},
     "output_type": "execute_result"
    }
   ],
   "source": [
    "def f(num):\n",
    "    print(\"function start\")\n",
    "    for i in range(num):\n",
    "        n = yield i\n",
    "        print('generate %s finished' % n)\n",
    "    print(\"function end\")\n",
    "    \n",
    "\n",
    "print('test...')\n",
    "g = f(3)\n",
    "print(type(g))\n",
    "print(dir(g))\n",
    "print('next: %s' % next(g))\n",
    "g.send('a')\n",
    "# for i in g:\n",
    "#     print(i)"
   ]
  },
  {
   "cell_type": "code",
   "execution_count": null,
   "metadata": {},
   "outputs": [],
   "source": [
    "def consumer():\n",
    "    while True:\n",
    "        print('yield')\n",
    "        n = yield 100\n",
    "        print(n)\n",
    "        if not n:\n",
    "            break\n",
    "        print('[CONSUMER]Consuming %s...' % n)\n",
    "\n",
    "def producer(c):\n",
    "    next(c)\n",
    "    for n in range(1, 5):\n",
    "        print('[PRODUCER]Producing %s...' % n)\n",
    "        c.send(n)\n",
    "    c.close()\n",
    "\n",
    "c = consumer()\n",
    "producer(c)"
   ]
  },
  {
   "cell_type": "code",
   "execution_count": null,
   "metadata": {},
   "outputs": [],
   "source": [
    "from functools import wraps\n",
    "def coroutine(fun):\n",
    "    @wraps(fun)\n",
    "    def primer(*args, **kwargs):\n",
    "        gen = fun(*args, **kwargs)\n",
    "        next(gen)\n",
    "        return gen\n",
    "    return primer"
   ]
  },
  {
   "cell_type": "code",
   "execution_count": null,
   "metadata": {},
   "outputs": [],
   "source": [
    "@coroutine\n",
    "def consumer():\n",
    "    sum_ = 0\n",
    "    while True:\n",
    "        n = yield\n",
    "        if not n:\n",
    "            break\n",
    "        sum_ = sum_ + n#<-\n",
    "        print('[CONSUMER]Consuming %s...' % n)\n",
    "#     return sum_#<-"
   ]
  },
  {
   "cell_type": "code",
   "execution_count": 9,
   "metadata": {},
   "outputs": [],
   "source": [
    "def producer(c):\n",
    "    for n in range(1, 5):\n",
    "        print('[PRODUCER]Producing %s...' % n)\n",
    "        c.send(n)\n",
    "    try:\n",
    "        c.send(None)#<-\n",
    "    except StopIteration as exc:\n",
    "        print(dir(exc))\n",
    "#         print(\"[PRODUCER]Producing GET\",exc.value)"
   ]
  },
  {
   "cell_type": "markdown",
   "metadata": {},
   "source": [
    "producer(consumer())"
   ]
  },
  {
   "cell_type": "code",
   "execution_count": null,
   "metadata": {},
   "outputs": [],
   "source": [
    "\n",
    "\n",
    "\n",
    "\n"
   ]
  }
 ],
 "metadata": {
  "kernelspec": {
   "display_name": "Python 3",
   "language": "python",
   "name": "python3"
  },
  "language_info": {
   "codemirror_mode": {
    "name": "ipython",
    "version": 3
   },
   "file_extension": ".py",
   "mimetype": "text/x-python",
   "name": "python",
   "nbconvert_exporter": "python",
   "pygments_lexer": "ipython3",
   "version": "3.6.0"
  }
 },
 "nbformat": 4,
 "nbformat_minor": 2
}
